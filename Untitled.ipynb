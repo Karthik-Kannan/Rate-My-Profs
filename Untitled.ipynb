{
 "cells": [
  {
   "cell_type": "code",
   "execution_count": 1,
   "metadata": {
    "collapsed": true
   },
   "outputs": [],
   "source": [
    "import pandas as pd\n",
    "import numpy as np\n",
    "import re\n",
    "\n",
    "#CrossVal\n",
    "from sklearn.cross_validation import cross_val_score\n",
    "from sklearn.cross_validation import StratifiedKFold as KFold\n",
    "#GridSearch\n",
    "from sklearn.grid_search import GridSearchCV\n",
    "#models\n",
    "from sklearn.linear_model import LinearRegression\n",
    "from sklearn.tree import DecisionTreeClassifier\n",
    "from sklearn.naive_bayes import GaussianNB\n",
    "from sklearn.svm import LinearSVC\n",
    "\n",
    "#ensembles\n",
    "from sklearn.ensemble import RandomForestRegressor\n",
    "from sklearn.ensemble import ExtraTreesRegressor\n",
    "from sklearn.ensemble import GradientBoostingRegressor\n",
    "from sklearn.ensemble import VotingClassifier\n",
    "\n",
    "#text stuff\n",
    "from sklearn.feature_extraction.text import TfidfVectorizer\n"
   ]
  },
  {
   "cell_type": "code",
   "execution_count": 2,
   "metadata": {
    "collapsed": false,
    "scrolled": true
   },
   "outputs": [],
   "source": [
    "train = pd.read_csv(\"train.csv\")\n",
    "test = pd.read_csv(\"test.csv\")\n",
    "dropcolnames = list(set(train.columns) - set(test.columns))\n",
    "dropcolnames.extend(['quality', 'online'])\n",
    "quality = train['quality']\n",
    "train = train.drop(dropcolnames,axis = 1)"
   ]
  },
  {
   "cell_type": "code",
   "execution_count": 14,
   "metadata": {
    "collapsed": false
   },
   "outputs": [],
   "source": [
    "def train_preprocessing(df):\n",
    "    df = df.drop(['id', 'tid', 'date','dept' ], axis = 1)\n",
    "#      #One-hot forcredit\n",
    "#     df = df.join(pd.get_dummies(df.forcredit, prefix= 'forcredit'))\n",
    "    df = df.drop('forcredit', axis =1 )\n",
    "#     #One-hot attendance\n",
    "#     df = df.join(pd.get_dummies(df.attendance, prefix= 'attendance'))\n",
    "    df = df.drop('attendance', axis = 1)\n",
    "#      #One-hot textbookuse\n",
    "#     df = df.join(pd.get_dummies(df.textbookuse, prefix= 'textbk'))\n",
    "    df = df.drop('textbookuse' , axis =1)\n",
    "#      #One-hot interest\n",
    "#     df = df.join(pd.get_dummies(df.interest, prefix= 'interest'))\n",
    "    df = df.drop('interest', axis =1)\n",
    "#      #One-hot grade\n",
    "#     df = df.join(pd.get_dummies(df.grade, prefix= 'grade'))\n",
    "    df = df.drop('grade', axis =1)\n",
    "#      #One-hot profgender\n",
    "#     df = df.join(pd.get_dummies(df.profgender, prefix= 'profgender'))\n",
    "    df = df.drop('profgender', axis =1)\n",
    "#      #One-hot profhotness\n",
    "#     df = df.join(pd.get_dummies(df.profhotness, prefix= 'profhotness'))\n",
    "    df = df.drop('profhotness', axis =1)\n",
    "#      #One-hot online\n",
    "#     df = df.join(pd.get_dummies(df.online, prefix= 'online'))\n",
    "#     df = df.drop('online', axis =1)\n",
    "     #One-hot tags\n",
    "#     df.tags = df.tags.apply(lambda x: '*'.join(eval(x)))\n",
    "#     df = df.join( df.tags.str.get_dummies(sep='*'))\n",
    "    df = df.drop('tags', axis =1)\n",
    "    \n",
    "    #tfidf\n",
    "    tfidf = TfidfVectorizer(stop_words='english', token_pattern=r'(?u)\\b[A-Za-z][A-Za-z]+\\b', max_features = 1000)\n",
    "    train.comments.fillna(value = \"\", inplace=True)\n",
    "    X_counts = tfidf.fit_transform(train.comments)\n",
    "    colnames = tfidf.get_feature_names()\n",
    "    countsdf = pd.DataFrame(data= X_counts.toarray(), columns=colnames)\n",
    "    countsdf = countsdf.add_prefix('comments_')\n",
    "    df = df.join(countsdf)\n",
    "    df = df.drop('comments', axis =1)\n",
    "    return df \n",
    "\n",
    "train = train_preprocessing(train)     "
   ]
  },
  {
   "cell_type": "code",
   "execution_count": 4,
   "metadata": {
    "collapsed": false
   },
   "outputs": [
    {
     "data": {
      "text/plain": [
       "array([-3.98901068, -3.76561212, -3.64703106, -4.15491959, -4.16662101,\n",
       "       -3.75000939, -3.90672524, -4.08550243, -4.15599453, -4.10973933])"
      ]
     },
     "execution_count": 4,
     "metadata": {},
     "output_type": "execute_result"
    }
   ],
   "source": [
    "seed = 7\n",
    "processors=-1\n",
    "num_folds=10\n",
    "num_instances=len(train)\n",
    "scoring='mean_squared_error'\n",
    "Y= quality\n",
    "\n",
    "kfold = KFold( Y, n_folds=num_folds, random_state=seed)\n",
    "model = ExtraTreesRegressor()\n",
    "cross_val_score(model, train, Y, cv =kfold, scoring= scoring, n_jobs=processors)"
   ]
  },
  {
   "cell_type": "code",
   "execution_count": 5,
   "metadata": {
    "collapsed": false
   },
   "outputs": [
    {
     "data": {
      "text/plain": [
       "ExtraTreesRegressor(bootstrap=False, criterion='mse', max_depth=None,\n",
       "          max_features='auto', max_leaf_nodes=None, min_samples_leaf=1,\n",
       "          min_samples_split=2, min_weight_fraction_leaf=0.0,\n",
       "          n_estimators=10, n_jobs=1, oob_score=False, random_state=None,\n",
       "          verbose=0, warm_start=False)"
      ]
     },
     "execution_count": 5,
     "metadata": {},
     "output_type": "execute_result"
    }
   ],
   "source": [
    "model.fit(train, Y)"
   ]
  },
  {
   "cell_type": "code",
   "execution_count": 32,
   "metadata": {
    "collapsed": false
   },
   "outputs": [],
   "source": [
    "test = pd.read_csv(\"test.csv\")"
   ]
  },
  {
   "cell_type": "code",
   "execution_count": 34,
   "metadata": {
    "collapsed": true
   },
   "outputs": [],
   "source": [
    "test_ids = test['id']"
   ]
  },
  {
   "cell_type": "code",
   "execution_count": null,
   "metadata": {
    "collapsed": true
   },
   "outputs": [],
   "source": [
    "def test_preprocessing(df):\n",
    "    df = df.drop(['id', 'tid', 'date','dept' ], axis = 1)\n",
    "#      #One-hot forcredit\n",
    "#     df = df.join(pd.get_dummies(df.forcredit, prefix= 'forcredit'))\n",
    "    df = df.drop('forcredit', axis =1 )\n",
    "#     #One-hot attendance\n",
    "#     df = df.join(pd.get_dummies(df.attendance, prefix= 'attendance'))\n",
    "    df = df.drop('attendance', axis = 1)\n",
    "#      #One-hot textbookuse\n",
    "#     df = df.join(pd.get_dummies(df.textbookuse, prefix= 'textbk'))\n",
    "    df = df.drop('textbookuse' , axis =1)\n",
    "#      #One-hot interest\n",
    "#     df = df.join(pd.get_dummies(df.interest, prefix= 'interest'))\n",
    "    df = df.drop('interest', axis =1)\n",
    "#      #One-hot grade\n",
    "#     df = df.join(pd.get_dummies(df.grade, prefix= 'grade'))\n",
    "    df = df.drop('grade', axis =1)\n",
    "#      #One-hot profgender\n",
    "#     df = df.join(pd.get_dummies(df.profgender, prefix= 'profgender'))\n",
    "    df = df.drop('profgender', axis =1)\n",
    "#      #One-hot profhotness\n",
    "#     df = df.join(pd.get_dummies(df.profhotness, prefix= 'profhotness'))\n",
    "    df = df.drop('profhotness', axis =1)\n",
    "#      #One-hot online\n",
    "#     df = df.join(pd.get_dummies(df.online, prefix= 'online'))\n",
    "#     df = df.drop('online', axis =1)\n",
    "     #One-hot tags\n",
    "#     df.tags = df.tags.apply(lambda x: '*'.join(eval(x)))\n",
    "#     df = df.join( df.tags.str.get_dummies(sep='*'))\n",
    "    df = df.drop('tags', axis =1)\n",
    "    \n",
    "    #tfidf\n",
    "    tfidf = TfidfVectorizer(stop_words='english', token_pattern=r'(?u)\\b[A-Za-z][A-Za-z]+\\b', max_features = 1000)\n",
    "    test.comments.fillna(value = \"\", inplace=True)\n",
    "    X_counts = tfidf.fit_transform(test.comments)\n",
    "    colnames = tfidf.get_feature_names()\n",
    "    countsdf = pd.DataFrame(data= X_counts.toarray(), columns=colnames)\n",
    "    countsdf = countsdf.add_prefix('comments_')\n",
    "    df = df.join(countsdf)\n",
    "    df = df.drop('comments', axis =1)\n",
    "    return df\n",
    "\n",
    "test = test_preprocessing(test)"
   ]
  },
  {
   "cell_type": "code",
   "execution_count": 35,
   "metadata": {
    "collapsed": false
   },
   "outputs": [],
   "source": [
    "test = test.drop('online', axis=1)"
   ]
  },
  {
   "cell_type": "code",
   "execution_count": 37,
   "metadata": {
    "collapsed": false
   },
   "outputs": [],
   "source": [
    "prediction = model.predict(test)"
   ]
  },
  {
   "cell_type": "code",
   "execution_count": 42,
   "metadata": {
    "collapsed": false
   },
   "outputs": [],
   "source": [
    "with open('results.txt','w+') as opfile:\n",
    "    opfile.write(\"id,quality\\n\")\n",
    "    for i in range(test.shape[0]):\n",
    "#         print i\n",
    "        opfile.write(str(test_ids[i])+\",\"+str(prediction[i])+\"\\n\")\n",
    "\n",
    "opfile.close()"
   ]
  }
 ],
 "metadata": {
  "kernelspec": {
   "display_name": "Python [rate_my_prof]",
   "language": "python",
   "name": "Python [rate_my_prof]"
  },
  "language_info": {
   "codemirror_mode": {
    "name": "ipython",
    "version": 2
   },
   "file_extension": ".py",
   "mimetype": "text/x-python",
   "name": "python",
   "nbconvert_exporter": "python",
   "pygments_lexer": "ipython2",
   "version": "2.7.12"
  }
 },
 "nbformat": 4,
 "nbformat_minor": 0
}
